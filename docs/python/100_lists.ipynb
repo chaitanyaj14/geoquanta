{
 "cells": [
  {
   "cell_type": "markdown",
   "metadata": {},
   "source": [
    "# Lists\n",
    "[![image](https://colab.research.google.com/assets/colab-badge.svg)](https://colab.research.google.com/github/chaitanyaj14/geoquanta/blob/main/docs/python/100_lists.ipynb)\n",
    "\n",
    "Lists are a versatile and widely used data structure in Python. They are ordered collections of items, which can be of different data types. Lists are mutable, meaning you can change, add, and remove elements from them. Let's explore some common operations and methods associated with lists.\n",
    "\n",
    "## Creating Lists\n",
    "\n",
    "You can create a list in Python by enclosing comma-separated values in square brackets `[]`."
   ]
  },
  {
   "cell_type": "code",
   "execution_count": 2,
   "metadata": {},
   "outputs": [
    {
     "name": "stdout",
     "output_type": "stream",
     "text": [
      "[1, 2, 3, 4, 5]\n"
     ]
    }
   ],
   "source": [
    "# Creating a list\n",
    "my_list = [1, 2, 3, 4, 5]\n",
    "print(my_list)"
   ]
  },
  {
   "cell_type": "code",
   "execution_count": 10,
   "metadata": {},
   "outputs": [
    {
     "name": "stdout",
     "output_type": "stream",
     "text": [
      "[1, 2, 3] <class 'list'>\n",
      "['John', 'Denver'] <class 'list'>\n",
      "['John Denver', '464210'] <class 'list'>\n"
     ]
    }
   ],
   "source": [
    "IntList = [1,2,3]\n",
    "StringList = [\"John\", \"Denver\"]\n",
    "MixedList = [\"John Denver\", \"464210\"]\n",
    "print(IntList, type(IntList))\n",
    "print(StringList, type(StringList))\n",
    "print(MixedList, type(MixedList))"
   ]
  },
  {
   "cell_type": "code",
   "execution_count": 12,
   "metadata": {},
   "outputs": [
    {
     "name": "stdout",
     "output_type": "stream",
     "text": [
      "1\n",
      "John\n",
      "Denver\n"
     ]
    }
   ],
   "source": [
    "print(IntList[0])\n",
    "print(StringList[0])\n",
    "print(MixedList[0].split(\" \")[1])"
   ]
  }
 ],
 "metadata": {
  "kernelspec": {
   "display_name": "geo",
   "language": "python",
   "name": "python3"
  },
  "language_info": {
   "codemirror_mode": {
    "name": "ipython",
    "version": 3
   },
   "file_extension": ".py",
   "mimetype": "text/x-python",
   "name": "python",
   "nbconvert_exporter": "python",
   "pygments_lexer": "ipython3",
   "version": "3.11.8"
  }
 },
 "nbformat": 4,
 "nbformat_minor": 2
}
